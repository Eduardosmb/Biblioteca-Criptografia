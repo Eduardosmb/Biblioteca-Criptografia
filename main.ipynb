{
 "cells": [
  {
   "cell_type": "code",
   "execution_count": 54,
   "metadata": {},
   "outputs": [],
   "source": [
    "import numpy as np"
   ]
  },
  {
   "attachments": {},
   "cell_type": "markdown",
   "metadata": {},
   "source": [
    "### **Função para_one_hot**"
   ]
  },
  {
   "cell_type": "code",
   "execution_count": 55,
   "metadata": {},
   "outputs": [],
   "source": [
    "def para_one_hot(palavra):\n",
    "    alfabeto = 'abcdefghijklmnopqrstuvwxyz!@#$%^&*()[}{];:\",.<>/?\\| '\n",
    "    matriz = np.zeros((len(alfabeto), len(palavra)))\n",
    "    palavra = palavra.lower()\n",
    "    for i in range(len(palavra)):\n",
    "        letra = palavra[i]\n",
    "        indice = alfabeto.index(letra)\n",
    "        matriz[indice][i] = 1\n",
    "    return matriz\n"
   ]
  },
  {
   "cell_type": "code",
   "execution_count": 56,
   "metadata": {},
   "outputs": [
    {
     "name": "stdout",
     "output_type": "stream",
     "text": [
      "[[1. 0. 0. ... 0. 0. 0.]\n",
      " [0. 1. 0. ... 0. 0. 0.]\n",
      " [0. 0. 1. ... 0. 0. 0.]\n",
      " ...\n",
      " [0. 0. 0. ... 1. 0. 0.]\n",
      " [0. 0. 0. ... 0. 1. 0.]\n",
      " [0. 0. 0. ... 0. 0. 1.]]\n"
     ]
    }
   ],
   "source": [
    "print(para_one_hot('abcdefghijklmnopqrstuvwxyz!@#$%^&*()[}{];:\",.<>/?\\| '))"
   ]
  },
  {
   "attachments": {},
   "cell_type": "markdown",
   "metadata": {},
   "source": [
    "### **Função para_string**"
   ]
  },
  {
   "cell_type": "code",
   "execution_count": 57,
   "metadata": {},
   "outputs": [],
   "source": [
    "def para_string(matriz):\n",
    "    alfabeto = 'abcdefghijklmnopqrstuvwxyz!@#$%^&*()[}{];:\",.<>/?\\| '\n",
    "    palavra = ''\n",
    "    for i in range(matriz.shape[1]):\n",
    "        indice = np.argmax(matriz[:, i])\n",
    "        letra = alfabeto[indice]\n",
    "        palavra += letra\n",
    "    return palavra\n"
   ]
  },
  {
   "cell_type": "code",
   "execution_count": 58,
   "metadata": {},
   "outputs": [
    {
     "name": "stdout",
     "output_type": "stream",
     "text": [
      "banana\n"
     ]
    }
   ],
   "source": [
    "print(para_string(para_one_hot('banana')))"
   ]
  },
  {
   "attachments": {},
   "cell_type": "markdown",
   "metadata": {},
   "source": [
    "### **Função cifrar**"
   ]
  },
  {
   "cell_type": "code",
   "execution_count": 59,
   "metadata": {},
   "outputs": [],
   "source": [
    "def cifrar(mensagem, P):\n",
    "    matriz = para_one_hot(mensagem)\n",
    "    C = np.dot(P, matriz)\n",
    "    return para_string(C)"
   ]
  },
  {
   "cell_type": "code",
   "execution_count": 60,
   "metadata": {},
   "outputs": [],
   "source": [
    "Mi = np.identity(52)\n",
    "linhas = [i for i in range(52)]\n",
    "np.random.shuffle(linhas)\n",
    "Mp = Mi[linhas,:]"
   ]
  },
  {
   "cell_type": "code",
   "execution_count": 61,
   "metadata": {},
   "outputs": [
    {
     "name": "stdout",
     "output_type": "stream",
     "text": [
      "w#ywm#/tlgzj>$j\n"
     ]
    }
   ],
   "source": [
    "print(cifrar('highline quarta', Mp))"
   ]
  },
  {
   "attachments": {},
   "cell_type": "markdown",
   "metadata": {},
   "source": [
    "### **Função de_cifrar**"
   ]
  },
  {
   "cell_type": "code",
   "execution_count": 62,
   "metadata": {},
   "outputs": [],
   "source": [
    "def de_cifrar(mensagem, P):\n",
    "    matriz = para_one_hot(mensagem)\n",
    "    C = np.dot(np.linalg.inv(P),matriz)\n",
    "    return para_string(C)"
   ]
  },
  {
   "cell_type": "code",
   "execution_count": 63,
   "metadata": {},
   "outputs": [
    {
     "name": "stdout",
     "output_type": "stream",
     "text": [
      "highline quarta\n"
     ]
    }
   ],
   "source": [
    "print(de_cifrar(cifrar('highline quarta', Mp), Mp))"
   ]
  },
  {
   "attachments": {},
   "cell_type": "markdown",
   "metadata": {},
   "source": [
    "### **Função enigma**"
   ]
  },
  {
   "cell_type": "code",
   "execution_count": 64,
   "metadata": {},
   "outputs": [],
   "source": [
    "def enigma(mensagem, P, E):\n",
    "    indice = 0\n",
    "    resposta = ''\n",
    "    for letra in mensagem:\n",
    "        if indice == 0:\n",
    "            resposta += cifrar(letra, P)\n",
    "        else:\n",
    "            letra_nova = cifrar(letra, P)\n",
    "            for u in range(indice):\n",
    "                letra_nova = cifrar(letra_nova,E)\n",
    "            resposta += letra_nova\n",
    "        indice += 1\n",
    "\n",
    "\n",
    "    return resposta"
   ]
  },
  {
   "cell_type": "code",
   "execution_count": 65,
   "metadata": {},
   "outputs": [],
   "source": [
    "Mi = np.identity(52)\n",
    "linhas = [i for i in range(52)]\n",
    "np.random.shuffle(linhas)\n",
    "Mp = Mi[linhas,:]\n",
    "np.random.shuffle(linhas)\n",
    "Me = Mi[linhas, :]"
   ]
  },
  {
   "cell_type": "code",
   "execution_count": 66,
   "metadata": {},
   "outputs": [
    {
     "data": {
      "text/plain": [
       "'@m)h\\\\),u}z;t'"
      ]
     },
     "execution_count": 66,
     "metadata": {},
     "output_type": "execute_result"
    }
   ],
   "source": [
    "enigma('amata quinta',Mp,Me)"
   ]
  },
  {
   "attachments": {},
   "cell_type": "markdown",
   "metadata": {},
   "source": [
    "### **Função de_enigma**"
   ]
  },
  {
   "cell_type": "code",
   "execution_count": 67,
   "metadata": {},
   "outputs": [],
   "source": [
    "def de_enigma(mensagem, P, E):\n",
    "    indice = 0\n",
    "    resposta = ''\n",
    "    for letra in mensagem:\n",
    "        if indice == 0:\n",
    "            letra = de_cifrar(letra, P)\n",
    "            resposta += letra\n",
    "        else:\n",
    "            for u in range(indice):\n",
    "                letra = de_cifrar(letra,E)\n",
    "            letra = de_cifrar(letra, P)\n",
    "            resposta += letra\n",
    "        indice += 1\n",
    "\n",
    "\n",
    "    return resposta"
   ]
  },
  {
   "cell_type": "code",
   "execution_count": 68,
   "metadata": {},
   "outputs": [],
   "source": [
    "Mi = np.identity(52)\n",
    "linhas = [i for i in range(52)]\n",
    "np.random.shuffle(linhas)\n",
    "Mp = Mi[linhas,:]\n",
    "np.random.shuffle(linhas)\n",
    "Me = Mi[linhas, :]"
   ]
  },
  {
   "cell_type": "code",
   "execution_count": 69,
   "metadata": {},
   "outputs": [
    {
     "data": {
      "text/plain": [
       "'amata quinta'"
      ]
     },
     "execution_count": 69,
     "metadata": {},
     "output_type": "execute_result"
    }
   ],
   "source": [
    "de_enigma(enigma('amata quinta',Mp,Me), Mp, Me)"
   ]
  }
 ],
 "metadata": {
  "kernelspec": {
   "display_name": "Python 3",
   "language": "python",
   "name": "python3"
  },
  "language_info": {
   "codemirror_mode": {
    "name": "ipython",
    "version": 3
   },
   "file_extension": ".py",
   "mimetype": "text/x-python",
   "name": "python",
   "nbconvert_exporter": "python",
   "pygments_lexer": "ipython3",
   "version": "3.11.1"
  },
  "orig_nbformat": 4
 },
 "nbformat": 4,
 "nbformat_minor": 2
}

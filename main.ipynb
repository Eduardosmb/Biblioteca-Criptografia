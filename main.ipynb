{
 "cells": [
  {
   "cell_type": "code",
   "execution_count": 42,
   "metadata": {},
   "outputs": [],
   "source": [
    "import numpy as np"
   ]
  },
  {
   "attachments": {},
   "cell_type": "markdown",
   "metadata": {},
   "source": [
    "### **Função para_one_hot**"
   ]
  },
  {
   "cell_type": "code",
   "execution_count": 43,
   "metadata": {},
   "outputs": [],
   "source": [
    "def para_one_hot(palavra):\n",
    "    # Define o alfabeto a ser utilizado\n",
    "    alfabeto = 'abcdefghijklmnopqrstuvwxyz!@#$%^&*()[}{];:\",.<>/?\\| '\n",
    "    # Cria uma matriz de zeros com o tamanho do alfabeto e da palavra\n",
    "    matriz = np.zeros((len(alfabeto), len(palavra)))\n",
    "    # Converte a palavra para minúscula\n",
    "    palavra = palavra.lower()\n",
    "    # Loop para percorrer cada letra da palavra e preencher a matriz\n",
    "    for i in range(len(palavra)):\n",
    "        letra = palavra[i]\n",
    "        indice = alfabeto.index(letra)\n",
    "        matriz[indice][i] = 1\n",
    "    return matriz\n"
   ]
  },
  {
   "cell_type": "code",
   "execution_count": 44,
   "metadata": {},
   "outputs": [
    {
     "name": "stdout",
     "output_type": "stream",
     "text": [
      "[[1. 0. 0. ... 0. 0. 0.]\n",
      " [0. 1. 0. ... 0. 0. 0.]\n",
      " [0. 0. 1. ... 0. 0. 0.]\n",
      " ...\n",
      " [0. 0. 0. ... 1. 0. 0.]\n",
      " [0. 0. 0. ... 0. 1. 0.]\n",
      " [0. 0. 0. ... 0. 0. 1.]]\n"
     ]
    }
   ],
   "source": [
    "print(para_one_hot('abcdefghijklmnopqrstuvwxyz!@#$%^&*()[}{];:\",.<>/?\\| '))"
   ]
  },
  {
   "attachments": {},
   "cell_type": "markdown",
   "metadata": {},
   "source": [
    "### **Função para_string**"
   ]
  },
  {
   "cell_type": "code",
   "execution_count": 45,
   "metadata": {},
   "outputs": [],
   "source": [
    "def para_string(matriz):\n",
    "    # Define o alfabeto a ser utilizado\n",
    "    alfabeto = 'abcdefghijklmnopqrstuvwxyz!@#$%^&*()[}{];:\",.<>/?\\| '\n",
    "    # Cria uma variável para armazenar a palavra\n",
    "    palavra = ''\n",
    "    # Loop para percorrer cada coluna da matriz e preencher a palavra\n",
    "    for i in range(matriz.shape[1]):\n",
    "        indice = np.argmax(matriz[:, i])\n",
    "        letra = alfabeto[indice]\n",
    "        palavra += letra\n",
    "    return palavra\n"
   ]
  },
  {
   "cell_type": "code",
   "execution_count": 46,
   "metadata": {},
   "outputs": [
    {
     "name": "stdout",
     "output_type": "stream",
     "text": [
      "banana\n"
     ]
    }
   ],
   "source": [
    "print(para_string(para_one_hot('banana')))"
   ]
  },
  {
   "attachments": {},
   "cell_type": "markdown",
   "metadata": {},
   "source": [
    "### **Função cifrar**"
   ]
  },
  {
   "cell_type": "code",
   "execution_count": 47,
   "metadata": {},
   "outputs": [],
   "source": [
    "def cifrar(mensagem, P):\n",
    "    # Converte a mensagem para one-hot\n",
    "    matriz = para_one_hot(mensagem)\n",
    "    # Multiplica a matriz pela matriz de permutação\n",
    "    C = np.dot(P, matriz)\n",
    "    return para_string(C)"
   ]
  },
  {
   "cell_type": "code",
   "execution_count": 48,
   "metadata": {},
   "outputs": [],
   "source": [
    "# Define a matriz de permutação P\n",
    "Mi = np.identity(52)\n",
    "linhas = [i for i in range(52)]\n",
    "np.random.shuffle(linhas)\n",
    "Mp = Mi[linhas,:]"
   ]
  },
  {
   "cell_type": "code",
   "execution_count": 49,
   "metadata": {},
   "outputs": [
    {
     "name": "stdout",
     "output_type": "stream",
     "text": [
      "mkwmxk(@*fva$ba\n"
     ]
    }
   ],
   "source": [
    "print(cifrar('highline quarta', Mp))"
   ]
  },
  {
   "attachments": {},
   "cell_type": "markdown",
   "metadata": {},
   "source": [
    "### **Função de_cifrar**"
   ]
  },
  {
   "cell_type": "code",
   "execution_count": 50,
   "metadata": {},
   "outputs": [],
   "source": [
    "def de_cifrar(mensagem, P):\n",
    "    # Converte a mensagem para one-hot\n",
    "    matriz = para_one_hot(mensagem) \n",
    "    # Multiplica a matriz pela inversa da matriz de permutação\n",
    "    C = np.dot(np.linalg.inv(P),matriz)\n",
    "    return para_string(C)"
   ]
  },
  {
   "cell_type": "code",
   "execution_count": 51,
   "metadata": {},
   "outputs": [
    {
     "name": "stdout",
     "output_type": "stream",
     "text": [
      "highline quarta\n"
     ]
    }
   ],
   "source": [
    "print(de_cifrar(cifrar('highline quarta', Mp), Mp))"
   ]
  },
  {
   "attachments": {},
   "cell_type": "markdown",
   "metadata": {},
   "source": [
    "### **Função enigma**"
   ]
  },
  {
   "cell_type": "code",
   "execution_count": 52,
   "metadata": {},
   "outputs": [],
   "source": [
    "def enigma(mensagem, P, E):\n",
    "    # Define o indice para percorrer a mensagem\n",
    "    indice = 0\n",
    "    # Define a variável para armazenar a mensagem cifrada\n",
    "    resposta = ''\n",
    "    # Loop para percorrer cada letra da mensagem\n",
    "    for letra in mensagem:\n",
    "        # Verifica se é a primeira letra\n",
    "        if indice == 0:\n",
    "            # Cifra a letra com a matriz de permutação P\n",
    "            resposta += cifrar(letra, P)\n",
    "        else:\n",
    "            # Cifra a letra com a matriz de permutação P e a letra cifrada anteriormente com a matriz de permutação E quantas vezes for o indice\n",
    "            letra_nova = cifrar(letra, P)\n",
    "            for u in range(indice):\n",
    "                letra_nova = cifrar(letra_nova,E)\n",
    "            resposta += letra_nova\n",
    "        indice += 1\n",
    "\n",
    "\n",
    "    return resposta"
   ]
  },
  {
   "cell_type": "code",
   "execution_count": 53,
   "metadata": {},
   "outputs": [],
   "source": [
    "# Define a matriz de permutação P e E\n",
    "Mi = np.identity(52)\n",
    "linhas = [i for i in range(52)]\n",
    "np.random.shuffle(linhas)\n",
    "Mp = Mi[linhas,:]\n",
    "np.random.shuffle(linhas)\n",
    "Me = Mi[linhas, :]"
   ]
  },
  {
   "cell_type": "code",
   "execution_count": 54,
   "metadata": {},
   "outputs": [
    {
     "data": {
      "text/plain": [
       "'/oo/.@noz&| '"
      ]
     },
     "execution_count": 54,
     "metadata": {},
     "output_type": "execute_result"
    }
   ],
   "source": [
    "enigma('amata quinta',Mp,Me)"
   ]
  },
  {
   "attachments": {},
   "cell_type": "markdown",
   "metadata": {},
   "source": [
    "### **Função de_enigma**"
   ]
  },
  {
   "cell_type": "code",
   "execution_count": 55,
   "metadata": {},
   "outputs": [],
   "source": [
    "def de_enigma(mensagem, P, E):\n",
    "    # Define o indice para percorrer a mensagem\n",
    "    indice = 0\n",
    "    # Define a variável para armazenar a mensagem cifrada\n",
    "    resposta = ''\n",
    "    # Loop para percorrer cada letra da mensagem\n",
    "    for letra in mensagem:\n",
    "        # Verifica se é a primeira letra e decifra a letra com a matriz de permutação P\n",
    "        if indice == 0:\n",
    "            letra = de_cifrar(letra, P)\n",
    "            resposta += letra\n",
    "        else:\n",
    "            # Decifra a letra com a matriz de permutação P e a letra cifrada anteriormente com a matriz de permutação E quantas vezes for o indice\n",
    "            for u in range(indice):\n",
    "                letra = de_cifrar(letra,E)\n",
    "            letra = de_cifrar(letra, P)\n",
    "            resposta += letra\n",
    "        indice += 1\n",
    "\n",
    "\n",
    "    return resposta"
   ]
  },
  {
   "cell_type": "code",
   "execution_count": 56,
   "metadata": {},
   "outputs": [
    {
     "data": {
      "text/plain": [
       "'amata quinta'"
      ]
     },
     "execution_count": 56,
     "metadata": {},
     "output_type": "execute_result"
    }
   ],
   "source": [
    "de_enigma(enigma('amata quinta',Mp,Me), Mp, Me)"
   ]
  }
 ],
 "metadata": {
  "kernelspec": {
   "display_name": "Python 3",
   "language": "python",
   "name": "python3"
  },
  "language_info": {
   "codemirror_mode": {
    "name": "ipython",
    "version": 3
   },
   "file_extension": ".py",
   "mimetype": "text/x-python",
   "name": "python",
   "nbconvert_exporter": "python",
   "pygments_lexer": "ipython3",
   "version": "3.11.1"
  },
  "orig_nbformat": 4
 },
 "nbformat": 4,
 "nbformat_minor": 2
}

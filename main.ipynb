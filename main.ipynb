{
 "cells": [
  {
   "cell_type": "code",
   "execution_count": 288,
   "metadata": {},
   "outputs": [],
   "source": [
    "import numpy as np\n",
    "from math import *"
   ]
  },
  {
   "attachments": {},
   "cell_type": "markdown",
   "metadata": {},
   "source": [
    "### **Função para_one_hot**"
   ]
  },
  {
   "cell_type": "code",
   "execution_count": 289,
   "metadata": {},
   "outputs": [],
   "source": [
    "def para_one_hot(palavra):\n",
    "    alfabeto = 'abcdefghijklmnopqrstuvwxyz '\n",
    "    matriz = np.zeros((len(alfabeto), len(palavra)))\n",
    "    palavra = palavra.lower()\n",
    "    for i in range(len(palavra)):\n",
    "        letra = palavra[i]\n",
    "        indice = alfabeto.index(letra)\n",
    "        matriz[indice][i] = 1\n",
    "    return matriz\n"
   ]
  },
  {
   "cell_type": "code",
   "execution_count": 290,
   "metadata": {},
   "outputs": [
    {
     "name": "stdout",
     "output_type": "stream",
     "text": [
      "[[1. 0. 0. 0. 0. 0. 0. 0. 0. 0. 0. 0. 0. 0. 0. 0. 0. 0. 0. 0. 0. 0. 0. 0.\n",
      "  0. 0. 0.]\n",
      " [0. 1. 0. 0. 0. 0. 0. 0. 0. 0. 0. 0. 0. 0. 0. 0. 0. 0. 0. 0. 0. 0. 0. 0.\n",
      "  0. 0. 0.]\n",
      " [0. 0. 1. 0. 0. 0. 0. 0. 0. 0. 0. 0. 0. 0. 0. 0. 0. 0. 0. 0. 0. 0. 0. 0.\n",
      "  0. 0. 0.]\n",
      " [0. 0. 0. 1. 0. 0. 0. 0. 0. 0. 0. 0. 0. 0. 0. 0. 0. 0. 0. 0. 0. 0. 0. 0.\n",
      "  0. 0. 0.]\n",
      " [0. 0. 0. 0. 1. 0. 0. 0. 0. 0. 0. 0. 0. 0. 0. 0. 0. 0. 0. 0. 0. 0. 0. 0.\n",
      "  0. 0. 0.]\n",
      " [0. 0. 0. 0. 0. 1. 0. 0. 0. 0. 0. 0. 0. 0. 0. 0. 0. 0. 0. 0. 0. 0. 0. 0.\n",
      "  0. 0. 0.]\n",
      " [0. 0. 0. 0. 0. 0. 1. 0. 0. 0. 0. 0. 0. 0. 0. 0. 0. 0. 0. 0. 0. 0. 0. 0.\n",
      "  0. 0. 0.]\n",
      " [0. 0. 0. 0. 0. 0. 0. 1. 0. 0. 0. 0. 0. 0. 0. 0. 0. 0. 0. 0. 0. 0. 0. 0.\n",
      "  0. 0. 0.]\n",
      " [0. 0. 0. 0. 0. 0. 0. 0. 1. 0. 0. 0. 0. 0. 0. 0. 0. 0. 0. 0. 0. 0. 0. 0.\n",
      "  0. 0. 0.]\n",
      " [0. 0. 0. 0. 0. 0. 0. 0. 0. 1. 0. 0. 0. 0. 0. 0. 0. 0. 0. 0. 0. 0. 0. 0.\n",
      "  0. 0. 0.]\n",
      " [0. 0. 0. 0. 0. 0. 0. 0. 0. 0. 1. 0. 0. 0. 0. 0. 0. 0. 0. 0. 0. 0. 0. 0.\n",
      "  0. 0. 0.]\n",
      " [0. 0. 0. 0. 0. 0. 0. 0. 0. 0. 0. 1. 0. 0. 0. 0. 0. 0. 0. 0. 0. 0. 0. 0.\n",
      "  0. 0. 0.]\n",
      " [0. 0. 0. 0. 0. 0. 0. 0. 0. 0. 0. 0. 1. 0. 0. 0. 0. 0. 0. 0. 0. 0. 0. 0.\n",
      "  0. 0. 0.]\n",
      " [0. 0. 0. 0. 0. 0. 0. 0. 0. 0. 0. 0. 0. 1. 0. 0. 0. 0. 0. 0. 0. 0. 0. 0.\n",
      "  0. 0. 0.]\n",
      " [0. 0. 0. 0. 0. 0. 0. 0. 0. 0. 0. 0. 0. 0. 1. 0. 0. 0. 0. 0. 0. 0. 0. 0.\n",
      "  0. 0. 0.]\n",
      " [0. 0. 0. 0. 0. 0. 0. 0. 0. 0. 0. 0. 0. 0. 0. 1. 0. 0. 0. 0. 0. 0. 0. 0.\n",
      "  0. 0. 0.]\n",
      " [0. 0. 0. 0. 0. 0. 0. 0. 0. 0. 0. 0. 0. 0. 0. 0. 1. 0. 0. 0. 0. 0. 0. 0.\n",
      "  0. 0. 0.]\n",
      " [0. 0. 0. 0. 0. 0. 0. 0. 0. 0. 0. 0. 0. 0. 0. 0. 0. 1. 0. 0. 0. 0. 0. 0.\n",
      "  0. 0. 0.]\n",
      " [0. 0. 0. 0. 0. 0. 0. 0. 0. 0. 0. 0. 0. 0. 0. 0. 0. 0. 1. 0. 0. 0. 0. 0.\n",
      "  0. 0. 0.]\n",
      " [0. 0. 0. 0. 0. 0. 0. 0. 0. 0. 0. 0. 0. 0. 0. 0. 0. 0. 0. 1. 0. 0. 0. 0.\n",
      "  0. 0. 0.]\n",
      " [0. 0. 0. 0. 0. 0. 0. 0. 0. 0. 0. 0. 0. 0. 0. 0. 0. 0. 0. 0. 1. 0. 0. 0.\n",
      "  0. 0. 0.]\n",
      " [0. 0. 0. 0. 0. 0. 0. 0. 0. 0. 0. 0. 0. 0. 0. 0. 0. 0. 0. 0. 0. 1. 0. 0.\n",
      "  0. 0. 0.]\n",
      " [0. 0. 0. 0. 0. 0. 0. 0. 0. 0. 0. 0. 0. 0. 0. 0. 0. 0. 0. 0. 0. 0. 1. 0.\n",
      "  0. 0. 0.]\n",
      " [0. 0. 0. 0. 0. 0. 0. 0. 0. 0. 0. 0. 0. 0. 0. 0. 0. 0. 0. 0. 0. 0. 0. 1.\n",
      "  0. 0. 0.]\n",
      " [0. 0. 0. 0. 0. 0. 0. 0. 0. 0. 0. 0. 0. 0. 0. 0. 0. 0. 0. 0. 0. 0. 0. 0.\n",
      "  1. 0. 0.]\n",
      " [0. 0. 0. 0. 0. 0. 0. 0. 0. 0. 0. 0. 0. 0. 0. 0. 0. 0. 0. 0. 0. 0. 0. 0.\n",
      "  0. 1. 0.]\n",
      " [0. 0. 0. 0. 0. 0. 0. 0. 0. 0. 0. 0. 0. 0. 0. 0. 0. 0. 0. 0. 0. 0. 0. 0.\n",
      "  0. 0. 1.]]\n"
     ]
    }
   ],
   "source": [
    "print(para_one_hot('abcdefghijklmnopqrstuvwxyz '))"
   ]
  },
  {
   "attachments": {},
   "cell_type": "markdown",
   "metadata": {},
   "source": [
    "### **Função para_string**"
   ]
  },
  {
   "cell_type": "code",
   "execution_count": 291,
   "metadata": {},
   "outputs": [],
   "source": [
    "def para_string(matriz):\n",
    "    alfabeto = 'abcdefghijklmnopqrstuvwxyz '\n",
    "    palavra = ''\n",
    "    for i in range(matriz.shape[1]):\n",
    "        indice = np.argmax(matriz[:, i])\n",
    "        letra = alfabeto[indice]\n",
    "        palavra += letra\n",
    "    return palavra\n"
   ]
  },
  {
   "cell_type": "code",
   "execution_count": 292,
   "metadata": {},
   "outputs": [
    {
     "name": "stdout",
     "output_type": "stream",
     "text": [
      "banana\n"
     ]
    }
   ],
   "source": [
    "print(para_string(para_one_hot('banana')))"
   ]
  },
  {
   "attachments": {},
   "cell_type": "markdown",
   "metadata": {},
   "source": [
    "### **Função cifrar**"
   ]
  },
  {
   "cell_type": "code",
   "execution_count": 293,
   "metadata": {},
   "outputs": [],
   "source": [
    "def cifrar(mensagem, P):\n",
    "    matriz = para_one_hot(mensagem)\n",
    "    C = np.dot(P, matriz)\n",
    "    return para_string(C)"
   ]
  },
  {
   "attachments": {},
   "cell_type": "markdown",
   "metadata": {},
   "source": [
    "### **Função de_cifrar**"
   ]
  },
  {
   "cell_type": "code",
   "execution_count": 294,
   "metadata": {},
   "outputs": [],
   "source": [
    "def de_cifrar(mensagem, P):\n",
    "    matriz = para_one_hot(mensagem)\n",
    "    C = np.dot(P, matriz)\n",
    "    return para_string(C)"
   ]
  },
  {
   "attachments": {},
   "cell_type": "markdown",
   "metadata": {},
   "source": [
    "### **Função enigma**"
   ]
  },
  {
   "cell_type": "code",
   "execution_count": 295,
   "metadata": {},
   "outputs": [],
   "source": [
    "def enigma(mensagem, P, E):\n",
    "    indice = 0\n",
    "    resposta = ''\n",
    "    for letra in mensagem:\n",
    "        if indice == 0:\n",
    "            resposta += cifrar(letra, P)\n",
    "        else:\n",
    "            letra_nova = cifrar(letra, P)\n",
    "            for u in range(indice):\n",
    "                letra_nova = cifrar(letra_nova,E)\n",
    "            resposta += letra_nova\n",
    "        indice += 1\n",
    "\n",
    "\n",
    "    return resposta"
   ]
  },
  {
   "cell_type": "code",
   "execution_count": 296,
   "metadata": {},
   "outputs": [],
   "source": [
    "Mi = np.identity(27)\n",
    "linhas = [i for i in range(27)]\n",
    "np.random.shuffle(linhas)\n",
    "Mp = Mi[linhas,:]\n",
    "np.random.shuffle(linhas)\n",
    "Me = Mi[linhas, :]"
   ]
  },
  {
   "cell_type": "code",
   "execution_count": 297,
   "metadata": {},
   "outputs": [
    {
     "data": {
      "text/plain": [
       "'bmvwzrcwvs b'"
      ]
     },
     "execution_count": 297,
     "metadata": {},
     "output_type": "execute_result"
    }
   ],
   "source": [
    "enigma('amata quinta',Mp,Me)"
   ]
  },
  {
   "attachments": {},
   "cell_type": "markdown",
   "metadata": {},
   "source": [
    "### **Função de_enigma**"
   ]
  },
  {
   "cell_type": "code",
   "execution_count": 304,
   "metadata": {},
   "outputs": [],
   "source": [
    "def de_enigma(mensagem, P, E):\n",
    "    indice = 0\n",
    "    resposta = ''\n",
    "    for letra in mensagem:\n",
    "        if indice == 0:\n",
    "            letra_cifrada = cifrar(letra, P)\n",
    "            letra_cifrada = para_one_hot(letra_cifrada)\n",
    "            matriz_cifrada = np.dot(np.linalg.inv(P),letra_cifrada)\n",
    "            resposta += para_string(matriz_cifrada)\n",
    "        else:\n",
    "            letra_nova = cifrar(letra, P)\n",
    "            letra_nova = para_one_hot(letra_nova)\n",
    "            matriz_cifrada = np.dot(np.linalg.inv(P),letra_nova)\n",
    "            for u in range(indice):\n",
    "                letra_nova = para_string(letra_nova)\n",
    "                letra_nova = cifrar(letra_nova,E)\n",
    "                letra_cifrada = para_one_hot(letra_cifrada)\n",
    "            matriz_cifrada = np.dot(np.linalg.inv(E),letra_cifrada)\n",
    "            resposta += para_string(matriz_cifrada)\n",
    "        indice += 1\n",
    "\n",
    "\n",
    "    return resposta"
   ]
  },
  {
   "cell_type": "code",
   "execution_count": 299,
   "metadata": {},
   "outputs": [],
   "source": [
    "Mi = np.identity(27)\n",
    "linhas = [i for i in range(27)]\n",
    "np.random.shuffle(linhas)\n",
    "Mp = Mi[linhas,:]\n",
    "np.random.shuffle(linhas)\n",
    "Me = Mi[linhas, :]"
   ]
  },
  {
   "cell_type": "code",
   "execution_count": 305,
   "metadata": {},
   "outputs": [
    {
     "ename": "AttributeError",
     "evalue": "'numpy.ndarray' object has no attribute 'lower'",
     "output_type": "error",
     "traceback": [
      "\u001b[1;31m---------------------------------------------------------------------------\u001b[0m",
      "\u001b[1;31mAttributeError\u001b[0m                            Traceback (most recent call last)",
      "Cell \u001b[1;32mIn[305], line 1\u001b[0m\n\u001b[1;32m----> 1\u001b[0m de_enigma(enigma(\u001b[39m'\u001b[39;49m\u001b[39mamata quinta\u001b[39;49m\u001b[39m'\u001b[39;49m,Mp,Me), Mp, Me)\n",
      "Cell \u001b[1;32mIn[304], line 17\u001b[0m, in \u001b[0;36mde_enigma\u001b[1;34m(mensagem, P, E)\u001b[0m\n\u001b[0;32m     15\u001b[0m     letra_nova \u001b[39m=\u001b[39m para_string(letra_nova)\n\u001b[0;32m     16\u001b[0m     letra_nova \u001b[39m=\u001b[39m cifrar(letra_nova,E)\n\u001b[1;32m---> 17\u001b[0m     letra_cifrada \u001b[39m=\u001b[39m para_one_hot(letra_cifrada)\n\u001b[0;32m     18\u001b[0m matriz_cifrada \u001b[39m=\u001b[39m np\u001b[39m.\u001b[39mdot(np\u001b[39m.\u001b[39mlinalg\u001b[39m.\u001b[39minv(E),letra_cifrada)\n\u001b[0;32m     19\u001b[0m resposta \u001b[39m+\u001b[39m\u001b[39m=\u001b[39m para_string(matriz_cifrada)\n",
      "Cell \u001b[1;32mIn[289], line 4\u001b[0m, in \u001b[0;36mpara_one_hot\u001b[1;34m(palavra)\u001b[0m\n\u001b[0;32m      2\u001b[0m alfabeto \u001b[39m=\u001b[39m \u001b[39m'\u001b[39m\u001b[39mabcdefghijklmnopqrstuvwxyz \u001b[39m\u001b[39m'\u001b[39m\n\u001b[0;32m      3\u001b[0m matriz \u001b[39m=\u001b[39m np\u001b[39m.\u001b[39mzeros((\u001b[39mlen\u001b[39m(alfabeto), \u001b[39mlen\u001b[39m(palavra)))\n\u001b[1;32m----> 4\u001b[0m palavra \u001b[39m=\u001b[39m palavra\u001b[39m.\u001b[39;49mlower()\n\u001b[0;32m      5\u001b[0m \u001b[39mfor\u001b[39;00m i \u001b[39min\u001b[39;00m \u001b[39mrange\u001b[39m(\u001b[39mlen\u001b[39m(palavra)):\n\u001b[0;32m      6\u001b[0m     letra \u001b[39m=\u001b[39m palavra[i]\n",
      "\u001b[1;31mAttributeError\u001b[0m: 'numpy.ndarray' object has no attribute 'lower'"
     ]
    }
   ],
   "source": [
    "de_enigma(enigma('amata quinta',Mp,Me), Mp, Me)"
   ]
  }
 ],
 "metadata": {
  "kernelspec": {
   "display_name": "Python 3",
   "language": "python",
   "name": "python3"
  },
  "language_info": {
   "codemirror_mode": {
    "name": "ipython",
    "version": 3
   },
   "file_extension": ".py",
   "mimetype": "text/x-python",
   "name": "python",
   "nbconvert_exporter": "python",
   "pygments_lexer": "ipython3",
   "version": "3.10.8"
  },
  "orig_nbformat": 4
 },
 "nbformat": 4,
 "nbformat_minor": 2
}
